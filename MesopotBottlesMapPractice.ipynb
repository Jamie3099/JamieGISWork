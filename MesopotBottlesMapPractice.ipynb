{
  "nbformat": 4,
  "nbformat_minor": 0,
  "metadata": {
    "colab": {
      "name": "Untitled5.ipynb",
      "provenance": [],
      "include_colab_link": true
    },
    "kernelspec": {
      "name": "python3",
      "display_name": "Python 3"
    }
  },
  "cells": [
    {
      "cell_type": "markdown",
      "metadata": {
        "id": "view-in-github",
        "colab_type": "text"
      },
      "source": [
        "<a href=\"https://colab.research.google.com/github/Jamie3099/JamieGISWork/blob/Jamie3099-project/MesopotBottlesMapPractice.ipynb\" target=\"_parent\"><img src=\"https://colab.research.google.com/assets/colab-badge.svg\" alt=\"Open In Colab\"/></a>"
      ]
    },
    {
      "cell_type": "code",
      "metadata": {
        "id": "zr75-YIxxKcM",
        "colab_type": "code",
        "colab": {}
      },
      "source": [
        "import pandas as pd"
      ],
      "execution_count": 0,
      "outputs": []
    },
    {
      "cell_type": "code",
      "metadata": {
        "id": "W-DNOTrOyHc5",
        "colab_type": "code",
        "colab": {}
      },
      "source": [
        "url = \"https://raw.githubusercontent.com/Jamie3099/JamieGISWork/Jamie3099-project/Copy%20of%20EBA_bottles.csv\"\n",
        "EBA_bottles = pd.read_csv(url)\n"
      ],
      "execution_count": 0,
      "outputs": []
    },
    {
      "cell_type": "code",
      "metadata": {
        "id": "ZySPHCWvyVVZ",
        "colab_type": "code",
        "colab": {
          "base_uri": "https://localhost:8080/",
          "height": 306
        },
        "outputId": "ad1c11b3-4ba6-4059-d972-865bf5a9f623"
      },
      "source": [
        "EBA_bottles.head()"
      ],
      "execution_count": 6,
      "outputs": [
        {
          "output_type": "execute_result",
          "data": {
            "text/html": [
              "<div>\n",
              "<style scoped>\n",
              "    .dataframe tbody tr th:only-of-type {\n",
              "        vertical-align: middle;\n",
              "    }\n",
              "\n",
              "    .dataframe tbody tr th {\n",
              "        vertical-align: top;\n",
              "    }\n",
              "\n",
              "    .dataframe thead th {\n",
              "        text-align: right;\n",
              "    }\n",
              "</style>\n",
              "<table border=\"1\" class=\"dataframe\">\n",
              "  <thead>\n",
              "    <tr style=\"text-align: right;\">\n",
              "      <th></th>\n",
              "      <th>FID</th>\n",
              "      <th>Site</th>\n",
              "      <th>Lat</th>\n",
              "      <th>Long</th>\n",
              "      <th>Period</th>\n",
              "      <th>Abs_date</th>\n",
              "      <th>Tot</th>\n",
              "      <th>Material</th>\n",
              "      <th>Comments</th>\n",
              "      <th>Reference</th>\n",
              "      <th>Unnamed: 10</th>\n",
              "    </tr>\n",
              "  </thead>\n",
              "  <tbody>\n",
              "    <tr>\n",
              "      <th>0</th>\n",
              "      <td>0</td>\n",
              "      <td>Acemhöyuk</td>\n",
              "      <td>38.4116</td>\n",
              "      <td>33.8355</td>\n",
              "      <td>EBA IIIa</td>\n",
              "      <td>2400-2200 BC</td>\n",
              "      <td>1</td>\n",
              "      <td>clay</td>\n",
              "      <td>wheelmade, greyish clay which seems non-local ...</td>\n",
              "      <td>Öztan 1989:409, fig.39</td>\n",
              "      <td>NaN</td>\n",
              "    </tr>\n",
              "    <tr>\n",
              "      <th>1</th>\n",
              "      <td>1</td>\n",
              "      <td>Alacahöyuk</td>\n",
              "      <td>40.2345</td>\n",
              "      <td>34.6953</td>\n",
              "      <td>EBA IIIb</td>\n",
              "      <td>2200-1950 BC</td>\n",
              "      <td>1</td>\n",
              "      <td>clay</td>\n",
              "      <td>without context provided</td>\n",
              "      <td>Çinaroglu et al. 2014: 8</td>\n",
              "      <td>NaN</td>\n",
              "    </tr>\n",
              "    <tr>\n",
              "      <th>2</th>\n",
              "      <td>2</td>\n",
              "      <td>Alisar Hüyük (Amkuwa)</td>\n",
              "      <td>39.6062</td>\n",
              "      <td>35.2616</td>\n",
              "      <td>EBA III</td>\n",
              "      <td>2300-2200 BC</td>\n",
              "      <td>2</td>\n",
              "      <td>clay</td>\n",
              "      <td>1 wheelmade, with red slip (Anatolian), but no...</td>\n",
              "      <td>Schmidt 1932:43, fig.45; von\\r\\nder Osten 1937...</td>\n",
              "      <td>NaN</td>\n",
              "    </tr>\n",
              "    <tr>\n",
              "      <th>3</th>\n",
              "      <td>3</td>\n",
              "      <td>Amarna</td>\n",
              "      <td>36.3920</td>\n",
              "      <td>37.4593</td>\n",
              "      <td>EBA III-IV</td>\n",
              "      <td>2500-2200 BC</td>\n",
              "      <td>2</td>\n",
              "      <td>clay</td>\n",
              "      <td></td>\n",
              "      <td>Orthmann 1963: Pl. 95: 1.2; Woolley 1914: Pl. ...</td>\n",
              "      <td>NaN</td>\n",
              "    </tr>\n",
              "    <tr>\n",
              "      <th>4</th>\n",
              "      <td>4</td>\n",
              "      <td>Arslantepe</td>\n",
              "      <td>38.4079</td>\n",
              "      <td>38.3040</td>\n",
              "      <td>EBA III</td>\n",
              "      <td>2300-2200 BC</td>\n",
              "      <td>2</td>\n",
              "      <td>clay</td>\n",
              "      <td></td>\n",
              "      <td>Conti and Persiani 1993: 386, Fig. 12:4,12</td>\n",
              "      <td>NaN</td>\n",
              "    </tr>\n",
              "  </tbody>\n",
              "</table>\n",
              "</div>"
            ],
            "text/plain": [
              "   FID  ... Unnamed: 10\n",
              "0    0  ...         NaN\n",
              "1    1  ...         NaN\n",
              "2    2  ...         NaN\n",
              "3    3  ...         NaN\n",
              "4    4  ...         NaN\n",
              "\n",
              "[5 rows x 11 columns]"
            ]
          },
          "metadata": {
            "tags": []
          },
          "execution_count": 6
        }
      ]
    },
    {
      "cell_type": "code",
      "metadata": {
        "id": "-_lU3bCZzt35",
        "colab_type": "code",
        "colab": {
          "base_uri": "https://localhost:8080/",
          "height": 306
        },
        "outputId": "44d366fd-344b-4412-8cfa-3f97591fbef1"
      },
      "source": [
        "EBA_bottlesIII = EBA_bottles[(EBA_bottles['Period']==\"EBA III\") ]\n",
        "EBA_bottlesIII.head()"
      ],
      "execution_count": 9,
      "outputs": [
        {
          "output_type": "execute_result",
          "data": {
            "text/html": [
              "<div>\n",
              "<style scoped>\n",
              "    .dataframe tbody tr th:only-of-type {\n",
              "        vertical-align: middle;\n",
              "    }\n",
              "\n",
              "    .dataframe tbody tr th {\n",
              "        vertical-align: top;\n",
              "    }\n",
              "\n",
              "    .dataframe thead th {\n",
              "        text-align: right;\n",
              "    }\n",
              "</style>\n",
              "<table border=\"1\" class=\"dataframe\">\n",
              "  <thead>\n",
              "    <tr style=\"text-align: right;\">\n",
              "      <th></th>\n",
              "      <th>FID</th>\n",
              "      <th>Site</th>\n",
              "      <th>Lat</th>\n",
              "      <th>Long</th>\n",
              "      <th>Period</th>\n",
              "      <th>Abs_date</th>\n",
              "      <th>Tot</th>\n",
              "      <th>Material</th>\n",
              "      <th>Comments</th>\n",
              "      <th>Reference</th>\n",
              "      <th>Unnamed: 10</th>\n",
              "    </tr>\n",
              "  </thead>\n",
              "  <tbody>\n",
              "    <tr>\n",
              "      <th>2</th>\n",
              "      <td>2</td>\n",
              "      <td>Alisar Hüyük (Amkuwa)</td>\n",
              "      <td>39.6062</td>\n",
              "      <td>35.2616</td>\n",
              "      <td>EBA III</td>\n",
              "      <td>2300-2200 BC</td>\n",
              "      <td>2</td>\n",
              "      <td>clay</td>\n",
              "      <td>1 wheelmade, with red slip (Anatolian), but no...</td>\n",
              "      <td>Schmidt 1932:43, fig.45; von\\r\\nder Osten 1937...</td>\n",
              "      <td>NaN</td>\n",
              "    </tr>\n",
              "    <tr>\n",
              "      <th>4</th>\n",
              "      <td>4</td>\n",
              "      <td>Arslantepe</td>\n",
              "      <td>38.4079</td>\n",
              "      <td>38.3040</td>\n",
              "      <td>EBA III</td>\n",
              "      <td>2300-2200 BC</td>\n",
              "      <td>2</td>\n",
              "      <td>clay</td>\n",
              "      <td></td>\n",
              "      <td>Conti and Persiani 1993: 386, Fig. 12:4,12</td>\n",
              "      <td>NaN</td>\n",
              "    </tr>\n",
              "    <tr>\n",
              "      <th>5</th>\n",
              "      <td>5</td>\n",
              "      <td>Eskiyapar</td>\n",
              "      <td>40.1583</td>\n",
              "      <td>34.7730</td>\n",
              "      <td>EBA III</td>\n",
              "      <td>2200-1950 BC</td>\n",
              "      <td>1</td>\n",
              "      <td>silver</td>\n",
              "      <td>in a cache with hundred gold and silver objects</td>\n",
              "      <td>Özgüç and Temizer 1993:617, pl.116.1</td>\n",
              "      <td>NaN</td>\n",
              "    </tr>\n",
              "    <tr>\n",
              "      <th>15</th>\n",
              "      <td>15</td>\n",
              "      <td>Hisarlik (Troy)</td>\n",
              "      <td>39.9575</td>\n",
              "      <td>26.2383</td>\n",
              "      <td>EBA III</td>\n",
              "      <td>2300-2200 BC</td>\n",
              "      <td>1</td>\n",
              "      <td>gold</td>\n",
              "      <td></td>\n",
              "      <td>Schliemann 1881:520-521, fig. 775</td>\n",
              "      <td>NaN</td>\n",
              "    </tr>\n",
              "    <tr>\n",
              "      <th>18</th>\n",
              "      <td>18</td>\n",
              "      <td>Kestel</td>\n",
              "      <td>37.8074</td>\n",
              "      <td>34.9070</td>\n",
              "      <td>EBA III</td>\n",
              "      <td>2300-2100 BC</td>\n",
              "      <td>1</td>\n",
              "      <td>clay</td>\n",
              "      <td>made in Metallic Ware</td>\n",
              "      <td>Yener 2000:95-96</td>\n",
              "      <td>NaN</td>\n",
              "    </tr>\n",
              "  </tbody>\n",
              "</table>\n",
              "</div>"
            ],
            "text/plain": [
              "    FID  ... Unnamed: 10\n",
              "2     2  ...         NaN\n",
              "4     4  ...         NaN\n",
              "5     5  ...         NaN\n",
              "15   15  ...         NaN\n",
              "18   18  ...         NaN\n",
              "\n",
              "[5 rows x 11 columns]"
            ]
          },
          "metadata": {
            "tags": []
          },
          "execution_count": 9
        }
      ]
    },
    {
      "cell_type": "code",
      "metadata": {
        "id": "S2AqRzyAy2Rm",
        "colab_type": "code",
        "colab": {}
      },
      "source": [
        "import folium"
      ],
      "execution_count": 0,
      "outputs": []
    },
    {
      "cell_type": "code",
      "metadata": {
        "id": "vPnDMcWOy6Y3",
        "colab_type": "code",
        "colab": {
          "base_uri": "https://localhost:8080/",
          "height": 755
        },
        "outputId": "622e88f5-c2fb-451d-cff5-103c4266f2ce"
      },
      "source": [
        "location = EBA_bottlesIII['Lat'].mean(), EBA_bottlesIII['Long'].mean()\n",
        "m = folium.Map(location=location,zoom_start=7.9)\n",
        "for i in range(0,len(EBA_bottlesIII)):\n",
        "    folium.Marker(\n",
        "        [EBA_bottlesIII['Lat'].iloc[i],EBA_bottlesIII['Long'].iloc[i]],\n",
        "        popup=EBA_bottlesIII.iloc[i]['Site'],         \n",
        "    ).add_to(m)\n",
        "\n",
        "m\n"
      ],
      "execution_count": 30,
      "outputs": [
        {
          "output_type": "execute_result",
          "data": {
            "text/html": [
              "<div style=\"width:100%;\"><div style=\"position:relative;width:100%;height:0;padding-bottom:60%;\"><iframe src=\"data:text/html;charset=utf-8;base64,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\" style=\"position:absolute;width:100%;height:100%;left:0;top:0;border:none !important;\" allowfullscreen webkitallowfullscreen mozallowfullscreen></iframe></div></div>"
            ],
            "text/plain": [
              "<folium.folium.Map at 0x7f13b842a518>"
            ]
          },
          "metadata": {
            "tags": []
          },
          "execution_count": 30
        }
      ]
    }
  ]
}