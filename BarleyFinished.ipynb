{
  "nbformat": 4,
  "nbformat_minor": 0,
  "metadata": {
    "colab": {
      "name": "Untitled9.ipynb",
      "provenance": [],
      "include_colab_link": true
    },
    "kernelspec": {
      "name": "python3",
      "display_name": "Python 3"
    }
  },
  "cells": [
    {
      "cell_type": "markdown",
      "metadata": {
        "id": "view-in-github",
        "colab_type": "text"
      },
      "source": [
        "<a href=\"https://colab.research.google.com/github/Jamie3099/JamieGISWork/blob/Jamie3099-project/BarleyFinished.ipynb\" target=\"_parent\"><img src=\"https://colab.research.google.com/assets/colab-badge.svg\" alt=\"Open In Colab\"/></a>"
      ]
    },
    {
      "cell_type": "code",
      "metadata": {
        "id": "VMMyLaXN29AC",
        "colab_type": "code",
        "colab": {}
      },
      "source": [
        "import pandas as pd\n",
        "import folium\n",
        "import numpy as np"
      ],
      "execution_count": 0,
      "outputs": []
    },
    {
      "cell_type": "code",
      "metadata": {
        "colab_type": "code",
        "outputId": "d3410e8c-bb08-4b40-ed84-886315aee021",
        "id": "j_oQzXkZ13vV",
        "colab": {
          "base_uri": "https://localhost:8080/",
          "height": 343
        }
      },
      "source": [
        "url = \"https://raw.githubusercontent.com/Jamie3099/JamieGISWork/Jamie3099-project/Archaeobotany%202.csv\"\n",
        "\n",
        "crops = pd.read_csv(url)\n",
        "\n",
        "crops.head()\n"
      ],
      "execution_count": 24,
      "outputs": [
        {
          "output_type": "execute_result",
          "data": {
            "text/html": [
              "<div>\n",
              "<style scoped>\n",
              "    .dataframe tbody tr th:only-of-type {\n",
              "        vertical-align: middle;\n",
              "    }\n",
              "\n",
              "    .dataframe tbody tr th {\n",
              "        vertical-align: top;\n",
              "    }\n",
              "\n",
              "    .dataframe thead th {\n",
              "        text-align: right;\n",
              "    }\n",
              "</style>\n",
              "<table border=\"1\" class=\"dataframe\">\n",
              "  <thead>\n",
              "    <tr style=\"text-align: right;\">\n",
              "      <th></th>\n",
              "      <th>site code</th>\n",
              "      <th>latitude</th>\n",
              "      <th>longitude</th>\n",
              "      <th>biblio code</th>\n",
              "      <th>amal per</th>\n",
              "      <th>presv</th>\n",
              "      <th>samp count</th>\n",
              "      <th>divrs</th>\n",
              "      <th>barley awn</th>\n",
              "      <th>barley lemma bases</th>\n",
              "      <th>barley rachis</th>\n",
              "      <th>culm nodes</th>\n",
              "      <th>f-t wheat rachis</th>\n",
              "      <th>gw glume bases</th>\n",
              "      <th>wheat indet rachis</th>\n",
              "      <th>cereal indet grain</th>\n",
              "      <th>barley grain</th>\n",
              "      <th>f-t wheat grain</th>\n",
              "      <th>gw grain</th>\n",
              "      <th>millet</th>\n",
              "      <th>oat grain</th>\n",
              "      <th>wheat indet gr</th>\n",
              "      <th>wild einkorn</th>\n",
              "      <th>caper</th>\n",
              "      <th>cucumber</th>\n",
              "      <th>date</th>\n",
              "      <th>fig</th>\n",
              "      <th>grape</th>\n",
              "      <th>hazelnut</th>\n",
              "      <th>olive</th>\n",
              "      <th>pear</th>\n",
              "      <th>pistachio</th>\n",
              "      <th>pomegranate</th>\n",
              "      <th>flax/linseed</th>\n",
              "      <th>sesame</th>\n",
              "      <th>bitter vetch</th>\n",
              "      <th>celtic bean</th>\n",
              "      <th>chickpea</th>\n",
              "      <th>common pea</th>\n",
              "      <th>grass pea</th>\n",
              "      <th>lentil</th>\n",
              "      <th>coriander</th>\n",
              "      <th>cumin</th>\n",
              "      <th>wild/weed</th>\n",
              "    </tr>\n",
              "  </thead>\n",
              "  <tbody>\n",
              "    <tr>\n",
              "      <th>0</th>\n",
              "      <td>agra</td>\n",
              "      <td>33.34</td>\n",
              "      <td>44.46</td>\n",
              "      <td>Jacobsen, 1982</td>\n",
              "      <td>Uruk</td>\n",
              "      <td>imp</td>\n",
              "      <td>1.0</td>\n",
              "      <td>1</td>\n",
              "      <td>0</td>\n",
              "      <td>0</td>\n",
              "      <td>0</td>\n",
              "      <td>0</td>\n",
              "      <td>0</td>\n",
              "      <td>0</td>\n",
              "      <td>0</td>\n",
              "      <td>0</td>\n",
              "      <td>1</td>\n",
              "      <td>0</td>\n",
              "      <td>0</td>\n",
              "      <td>0</td>\n",
              "      <td>0</td>\n",
              "      <td>0</td>\n",
              "      <td>0</td>\n",
              "      <td>0</td>\n",
              "      <td>0</td>\n",
              "      <td>0</td>\n",
              "      <td>0</td>\n",
              "      <td>0</td>\n",
              "      <td>0</td>\n",
              "      <td>0</td>\n",
              "      <td>0</td>\n",
              "      <td>0</td>\n",
              "      <td>0</td>\n",
              "      <td>0</td>\n",
              "      <td>0</td>\n",
              "      <td>0</td>\n",
              "      <td>0</td>\n",
              "      <td>0</td>\n",
              "      <td>0</td>\n",
              "      <td>0</td>\n",
              "      <td>0</td>\n",
              "      <td>0</td>\n",
              "      <td>0</td>\n",
              "      <td>0</td>\n",
              "    </tr>\n",
              "    <tr>\n",
              "      <th>1</th>\n",
              "      <td>muqa</td>\n",
              "      <td>30.56</td>\n",
              "      <td>46.08</td>\n",
              "      <td>Jacobsen, 1982</td>\n",
              "      <td>Ubaid</td>\n",
              "      <td>imp</td>\n",
              "      <td>2.0</td>\n",
              "      <td>3</td>\n",
              "      <td>0</td>\n",
              "      <td>0</td>\n",
              "      <td>0</td>\n",
              "      <td>0</td>\n",
              "      <td>0</td>\n",
              "      <td>0</td>\n",
              "      <td>0</td>\n",
              "      <td>0</td>\n",
              "      <td>2</td>\n",
              "      <td>0</td>\n",
              "      <td>1</td>\n",
              "      <td>0</td>\n",
              "      <td>0</td>\n",
              "      <td>0</td>\n",
              "      <td>0</td>\n",
              "      <td>0</td>\n",
              "      <td>0</td>\n",
              "      <td>0</td>\n",
              "      <td>0</td>\n",
              "      <td>0</td>\n",
              "      <td>0</td>\n",
              "      <td>0</td>\n",
              "      <td>0</td>\n",
              "      <td>0</td>\n",
              "      <td>0</td>\n",
              "      <td>1</td>\n",
              "      <td>0</td>\n",
              "      <td>0</td>\n",
              "      <td>0</td>\n",
              "      <td>0</td>\n",
              "      <td>0</td>\n",
              "      <td>0</td>\n",
              "      <td>0</td>\n",
              "      <td>0</td>\n",
              "      <td>0</td>\n",
              "      <td>0</td>\n",
              "    </tr>\n",
              "    <tr>\n",
              "      <th>2</th>\n",
              "      <td>muqa</td>\n",
              "      <td>30.56</td>\n",
              "      <td>46.08</td>\n",
              "      <td>Ellison, 1978</td>\n",
              "      <td>E Dynastic</td>\n",
              "      <td>cpr</td>\n",
              "      <td>9.0</td>\n",
              "      <td>6</td>\n",
              "      <td>0</td>\n",
              "      <td>0</td>\n",
              "      <td>0</td>\n",
              "      <td>0</td>\n",
              "      <td>0</td>\n",
              "      <td>0</td>\n",
              "      <td>0</td>\n",
              "      <td>0</td>\n",
              "      <td>2</td>\n",
              "      <td>0</td>\n",
              "      <td>0</td>\n",
              "      <td>0</td>\n",
              "      <td>0</td>\n",
              "      <td>2</td>\n",
              "      <td>0</td>\n",
              "      <td>0</td>\n",
              "      <td>0</td>\n",
              "      <td>3</td>\n",
              "      <td>0</td>\n",
              "      <td>0</td>\n",
              "      <td>0</td>\n",
              "      <td>0</td>\n",
              "      <td>3</td>\n",
              "      <td>0</td>\n",
              "      <td>0</td>\n",
              "      <td>0</td>\n",
              "      <td>0</td>\n",
              "      <td>0</td>\n",
              "      <td>0</td>\n",
              "      <td>0</td>\n",
              "      <td>1</td>\n",
              "      <td>0</td>\n",
              "      <td>0</td>\n",
              "      <td>0</td>\n",
              "      <td>0</td>\n",
              "      <td>1</td>\n",
              "    </tr>\n",
              "    <tr>\n",
              "      <th>3</th>\n",
              "      <td>muqa</td>\n",
              "      <td>30.56</td>\n",
              "      <td>46.08</td>\n",
              "      <td>Jacobsen, 1982</td>\n",
              "      <td>E Dynastic</td>\n",
              "      <td>imp</td>\n",
              "      <td>1.0</td>\n",
              "      <td>1</td>\n",
              "      <td>0</td>\n",
              "      <td>0</td>\n",
              "      <td>0</td>\n",
              "      <td>0</td>\n",
              "      <td>0</td>\n",
              "      <td>0</td>\n",
              "      <td>0</td>\n",
              "      <td>0</td>\n",
              "      <td>1</td>\n",
              "      <td>0</td>\n",
              "      <td>0</td>\n",
              "      <td>0</td>\n",
              "      <td>0</td>\n",
              "      <td>0</td>\n",
              "      <td>0</td>\n",
              "      <td>0</td>\n",
              "      <td>0</td>\n",
              "      <td>0</td>\n",
              "      <td>0</td>\n",
              "      <td>0</td>\n",
              "      <td>0</td>\n",
              "      <td>0</td>\n",
              "      <td>0</td>\n",
              "      <td>0</td>\n",
              "      <td>0</td>\n",
              "      <td>0</td>\n",
              "      <td>0</td>\n",
              "      <td>0</td>\n",
              "      <td>0</td>\n",
              "      <td>0</td>\n",
              "      <td>0</td>\n",
              "      <td>0</td>\n",
              "      <td>0</td>\n",
              "      <td>0</td>\n",
              "      <td>0</td>\n",
              "      <td>0</td>\n",
              "    </tr>\n",
              "    <tr>\n",
              "      <th>4</th>\n",
              "      <td>muqa</td>\n",
              "      <td>30.56</td>\n",
              "      <td>46.08</td>\n",
              "      <td>Ellison, 1978</td>\n",
              "      <td>E Dynastic</td>\n",
              "      <td>imp/m</td>\n",
              "      <td>1.0</td>\n",
              "      <td>1</td>\n",
              "      <td>0</td>\n",
              "      <td>0</td>\n",
              "      <td>0</td>\n",
              "      <td>0</td>\n",
              "      <td>0</td>\n",
              "      <td>0</td>\n",
              "      <td>0</td>\n",
              "      <td>0</td>\n",
              "      <td>0</td>\n",
              "      <td>0</td>\n",
              "      <td>0</td>\n",
              "      <td>0</td>\n",
              "      <td>0</td>\n",
              "      <td>0</td>\n",
              "      <td>0</td>\n",
              "      <td>0</td>\n",
              "      <td>0</td>\n",
              "      <td>0</td>\n",
              "      <td>0</td>\n",
              "      <td>0</td>\n",
              "      <td>0</td>\n",
              "      <td>0</td>\n",
              "      <td>0</td>\n",
              "      <td>0</td>\n",
              "      <td>0</td>\n",
              "      <td>0</td>\n",
              "      <td>0</td>\n",
              "      <td>0</td>\n",
              "      <td>0</td>\n",
              "      <td>1</td>\n",
              "      <td>0</td>\n",
              "      <td>0</td>\n",
              "      <td>0</td>\n",
              "      <td>0</td>\n",
              "      <td>0</td>\n",
              "      <td>0</td>\n",
              "    </tr>\n",
              "  </tbody>\n",
              "</table>\n",
              "</div>"
            ],
            "text/plain": [
              "  site code  latitude  longitude  ... coriander cumin wild/weed\n",
              "0      agra     33.34      44.46  ...         0     0         0\n",
              "1      muqa     30.56      46.08  ...         0     0         0\n",
              "2      muqa     30.56      46.08  ...         0     0         1\n",
              "3      muqa     30.56      46.08  ...         0     0         0\n",
              "4      muqa     30.56      46.08  ...         0     0         0\n",
              "\n",
              "[5 rows x 44 columns]"
            ]
          },
          "metadata": {
            "tags": []
          },
          "execution_count": 24
        }
      ]
    },
    {
      "cell_type": "code",
      "metadata": {
        "id": "iEYKQ4kG3ERB",
        "colab_type": "code",
        "outputId": "af2db3c4-5fbf-4a5c-faa3-a6d621a97109",
        "colab": {
          "base_uri": "https://localhost:8080/",
          "height": 204
        }
      },
      "source": [
        "barley = crops[['site code', 'amal per', 'latitude', 'longitude', 'barley grain']]\n",
        "barley.head()"
      ],
      "execution_count": 25,
      "outputs": [
        {
          "output_type": "execute_result",
          "data": {
            "text/html": [
              "<div>\n",
              "<style scoped>\n",
              "    .dataframe tbody tr th:only-of-type {\n",
              "        vertical-align: middle;\n",
              "    }\n",
              "\n",
              "    .dataframe tbody tr th {\n",
              "        vertical-align: top;\n",
              "    }\n",
              "\n",
              "    .dataframe thead th {\n",
              "        text-align: right;\n",
              "    }\n",
              "</style>\n",
              "<table border=\"1\" class=\"dataframe\">\n",
              "  <thead>\n",
              "    <tr style=\"text-align: right;\">\n",
              "      <th></th>\n",
              "      <th>site code</th>\n",
              "      <th>amal per</th>\n",
              "      <th>latitude</th>\n",
              "      <th>longitude</th>\n",
              "      <th>barley grain</th>\n",
              "    </tr>\n",
              "  </thead>\n",
              "  <tbody>\n",
              "    <tr>\n",
              "      <th>0</th>\n",
              "      <td>agra</td>\n",
              "      <td>Uruk</td>\n",
              "      <td>33.34</td>\n",
              "      <td>44.46</td>\n",
              "      <td>1</td>\n",
              "    </tr>\n",
              "    <tr>\n",
              "      <th>1</th>\n",
              "      <td>muqa</td>\n",
              "      <td>Ubaid</td>\n",
              "      <td>30.56</td>\n",
              "      <td>46.08</td>\n",
              "      <td>2</td>\n",
              "    </tr>\n",
              "    <tr>\n",
              "      <th>2</th>\n",
              "      <td>muqa</td>\n",
              "      <td>E Dynastic</td>\n",
              "      <td>30.56</td>\n",
              "      <td>46.08</td>\n",
              "      <td>2</td>\n",
              "    </tr>\n",
              "    <tr>\n",
              "      <th>3</th>\n",
              "      <td>muqa</td>\n",
              "      <td>E Dynastic</td>\n",
              "      <td>30.56</td>\n",
              "      <td>46.08</td>\n",
              "      <td>1</td>\n",
              "    </tr>\n",
              "    <tr>\n",
              "      <th>4</th>\n",
              "      <td>muqa</td>\n",
              "      <td>E Dynastic</td>\n",
              "      <td>30.56</td>\n",
              "      <td>46.08</td>\n",
              "      <td>0</td>\n",
              "    </tr>\n",
              "  </tbody>\n",
              "</table>\n",
              "</div>"
            ],
            "text/plain": [
              "  site code    amal per  latitude  longitude  barley grain\n",
              "0      agra        Uruk     33.34      44.46             1\n",
              "1      muqa       Ubaid     30.56      46.08             2\n",
              "2      muqa  E Dynastic     30.56      46.08             2\n",
              "3      muqa  E Dynastic     30.56      46.08             1\n",
              "4      muqa  E Dynastic     30.56      46.08             0"
            ]
          },
          "metadata": {
            "tags": []
          },
          "execution_count": 25
        }
      ]
    },
    {
      "cell_type": "code",
      "metadata": {
        "id": "3BHVLW4N5ys2",
        "colab_type": "code",
        "outputId": "0cdb1a37-4070-45fa-fc1c-40588f2b2363",
        "colab": {
          "base_uri": "https://localhost:8080/",
          "height": 255
        }
      },
      "source": [
        "!pip install geopandas"
      ],
      "execution_count": 26,
      "outputs": [
        {
          "output_type": "stream",
          "text": [
            "Requirement already satisfied: geopandas in /usr/local/lib/python3.6/dist-packages (0.6.2)\n",
            "Requirement already satisfied: pyproj in /usr/local/lib/python3.6/dist-packages (from geopandas) (2.4.1)\n",
            "Requirement already satisfied: pandas>=0.23.0 in /usr/local/lib/python3.6/dist-packages (from geopandas) (0.25.3)\n",
            "Requirement already satisfied: fiona in /usr/local/lib/python3.6/dist-packages (from geopandas) (1.8.11)\n",
            "Requirement already satisfied: shapely in /usr/local/lib/python3.6/dist-packages (from geopandas) (1.6.4.post2)\n",
            "Requirement already satisfied: python-dateutil>=2.6.1 in /usr/local/lib/python3.6/dist-packages (from pandas>=0.23.0->geopandas) (2.6.1)\n",
            "Requirement already satisfied: pytz>=2017.2 in /usr/local/lib/python3.6/dist-packages (from pandas>=0.23.0->geopandas) (2018.9)\n",
            "Requirement already satisfied: numpy>=1.13.3 in /usr/local/lib/python3.6/dist-packages (from pandas>=0.23.0->geopandas) (1.17.4)\n",
            "Requirement already satisfied: click-plugins>=1.0 in /usr/local/lib/python3.6/dist-packages (from fiona->geopandas) (1.1.1)\n",
            "Requirement already satisfied: cligj>=0.5 in /usr/local/lib/python3.6/dist-packages (from fiona->geopandas) (0.5.0)\n",
            "Requirement already satisfied: six>=1.7 in /usr/local/lib/python3.6/dist-packages (from fiona->geopandas) (1.12.0)\n",
            "Requirement already satisfied: munch in /usr/local/lib/python3.6/dist-packages (from fiona->geopandas) (2.5.0)\n",
            "Requirement already satisfied: click<8,>=4.0 in /usr/local/lib/python3.6/dist-packages (from fiona->geopandas) (7.0)\n",
            "Requirement already satisfied: attrs>=17 in /usr/local/lib/python3.6/dist-packages (from fiona->geopandas) (19.3.0)\n"
          ],
          "name": "stdout"
        }
      ]
    },
    {
      "cell_type": "code",
      "metadata": {
        "id": "1Qo77puh6Szf",
        "colab_type": "code",
        "colab": {}
      },
      "source": [
        "%matplotlib inline\n",
        "import geopandas as gpd\n",
        "import seaborn as sns\n",
        "import numpy as np\n",
        "import matplotlib.pyplot as plt"
      ],
      "execution_count": 0,
      "outputs": []
    },
    {
      "cell_type": "code",
      "metadata": {
        "id": "VnJZeIrz0rqX",
        "colab_type": "code",
        "colab": {
          "base_uri": "https://localhost:8080/",
          "height": 153
        },
        "outputId": "47823194-bf88-4879-fb11-5d33038df9b1"
      },
      "source": [
        "cmap = gpd.GeoDataFrame(\n",
        "    crops, geometry=gpd.points_from_xy(crops.longitude, crops.latitude))\n",
        "print(cmap.head())"
      ],
      "execution_count": 28,
      "outputs": [
        {
          "output_type": "stream",
          "text": [
            "  site code  latitude  longitude  ... cumin wild/weed                   geometry\n",
            "0      agra     33.34      44.46  ...     0         0  POINT (44.46000 33.34000)\n",
            "1      muqa     30.56      46.08  ...     0         0  POINT (46.08000 30.56000)\n",
            "2      muqa     30.56      46.08  ...     0         1  POINT (46.08000 30.56000)\n",
            "3      muqa     30.56      46.08  ...     0         0  POINT (46.08000 30.56000)\n",
            "4      muqa     30.56      46.08  ...     0         0  POINT (46.08000 30.56000)\n",
            "\n",
            "[5 rows x 45 columns]\n"
          ],
          "name": "stdout"
        }
      ]
    },
    {
      "cell_type": "code",
      "metadata": {
        "id": "-erftwi4091u",
        "colab_type": "code",
        "colab": {
          "base_uri": "https://localhost:8080/",
          "height": 880
        },
        "outputId": "f5d1e79f-c409-41cd-e86e-81615b4daddf"
      },
      "source": [
        "cmap.plot(column='site code', categorical=True, legend=True, figsize=(15,15))"
      ],
      "execution_count": 29,
      "outputs": [
        {
          "output_type": "execute_result",
          "data": {
            "text/plain": [
              "<matplotlib.axes._subplots.AxesSubplot at 0x7f30f7ebbf98>"
            ]
          },
          "metadata": {
            "tags": []
          },
          "execution_count": 29
        },
        {
          "output_type": "display_data",
          "data": {
            "image/png": "[encoded data removed]",
            "text/plain": [
              "<Figure size 1080x1080 with 1 Axes>"
            ]
          },
          "metadata": {
            "tags": []
          }
        }
      ]
    },
    {
      "cell_type": "code",
      "metadata": {
        "id": "hif7lxuO6bS3",
        "colab_type": "code",
        "outputId": "2ca76887-88cc-4d7f-acac-8f6d08aca453",
        "colab": {
          "base_uri": "https://localhost:8080/",
          "height": 153
        }
      },
      "source": [
        "bmap = gpd.GeoDataFrame(\n",
        "    barley, geometry=gpd.points_from_xy(barley.longitude, barley.latitude))\n",
        "print(bmap.head())"
      ],
      "execution_count": 30,
      "outputs": [
        {
          "output_type": "stream",
          "text": [
            "  site code    amal per  ...  barley grain                   geometry\n",
            "0      agra        Uruk  ...             1  POINT (44.46000 33.34000)\n",
            "1      muqa       Ubaid  ...             2  POINT (46.08000 30.56000)\n",
            "2      muqa  E Dynastic  ...             2  POINT (46.08000 30.56000)\n",
            "3      muqa  E Dynastic  ...             1  POINT (46.08000 30.56000)\n",
            "4      muqa  E Dynastic  ...             0  POINT (46.08000 30.56000)\n",
            "\n",
            "[5 rows x 6 columns]\n"
          ],
          "name": "stdout"
        }
      ]
    },
    {
      "cell_type": "code",
      "metadata": {
        "id": "pTj10Jwo7b3V",
        "colab_type": "code",
        "outputId": "26147527-4be3-4c4b-f4b1-b109e9ab13b6",
        "colab": {
          "base_uri": "https://localhost:8080/",
          "height": 880
        }
      },
      "source": [
        "bmap.plot(column='barley grain', categorical=True, legend=True, figsize=(15,15))"
      ],
      "execution_count": 31,
      "outputs": [
        {
          "output_type": "execute_result",
          "data": {
            "text/plain": [
              "<matplotlib.axes._subplots.AxesSubplot at 0x7f30f7f020f0>"
            ]
          },
          "metadata": {
            "tags": []
          },
          "execution_count": 31
        },
        {
          "output_type": "display_data",
          "data": {
            "image/png": "[encoded data removed]",
            "text/plain": [
              "<Figure size 1080x1080 with 1 Axes>"
            ]
          },
          "metadata": {
            "tags": []
          }
        }
      ]
    },
    {
      "cell_type": "code",
      "metadata": {
        "id": "VOmJjxaK1U2D",
        "colab_type": "code",
        "colab": {}
      },
      "source": [
        "from folium import plugins"
      ],
      "execution_count": 0,
      "outputs": []
    },
    {
      "cell_type": "code",
      "metadata": {
        "id": "010XiMPy1YZu",
        "colab_type": "code",
        "colab": {}
      },
      "source": [
        "from folium.plugins import HeatMapWithTime\n",
        "from folium.plugins import HeatMap\n",
        "from folium.plugins import MeasureControl"
      ],
      "execution_count": 0,
      "outputs": []
    },
    {
      "cell_type": "code",
      "metadata": {
        "id": "32XLpoYAz7gH",
        "colab_type": "code",
        "colab": {
          "base_uri": "https://localhost:8080/",
          "height": 34
        },
        "outputId": "d0b178b4-a25b-4185-ecca-058f38a63714"
      },
      "source": [
        "location_survey=barley['latitude'].mean(), barley['longitude'].mean()\n",
        "print(location_survey)"
      ],
      "execution_count": 34,
      "outputs": [
        {
          "output_type": "stream",
          "text": [
            "(33.7778481012658, 44.239493670886084)\n"
          ],
          "name": "stdout"
        }
      ]
    },
    {
      "cell_type": "code",
      "metadata": {
        "id": "ggxANqrK1tv5",
        "colab_type": "code",
        "colab": {}
      },
      "source": [
        "def generateBaseMap(default_location=[33.7778481012658, 44.239493670886084], default_zoom_start=7.9):\n",
        "    base_map = folium.Map(location=default_location, control_scale=True, zoom_start=default_zoom_start)\n",
        "    return base_map"
      ],
      "execution_count": 0,
      "outputs": []
    },
    {
      "cell_type": "code",
      "metadata": {
        "id": "geMxcGDw14jV",
        "colab_type": "code",
        "colab": {
          "base_uri": "https://localhost:8080/",
          "height": 755
        },
        "outputId": "a5773ff5-e6b2-40bd-a838-cb916138d206"
      },
      "source": [
        "base_map = generateBaseMap()\n",
        "base_map"
      ],
      "execution_count": 45,
      "outputs": [
        {
          "output_type": "execute_result",
          "data": {
            "text/html": [
              "<div style=\"width:100%;\"><div style=\"position:relative;width:100%;height:0;padding-bottom:60%;\"><iframe src=\"data:text/html;charset=utf-8;base64,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\" style=\"position:absolute;width:100%;height:100%;left:0;top:0;border:none !important;\" allowfullscreen webkitallowfullscreen mozallowfullscreen></iframe></div></div>"
            ],
            "text/plain": [
              "<folium.folium.Map at 0x7f30f7a31518>"
            ]
          },
          "metadata": {
            "tags": []
          },
          "execution_count": 45
        }
      ]
    },
    {
      "cell_type": "code",
      "metadata": {
        "id": "Z_nd487w2A7O",
        "colab_type": "code",
        "colab": {
          "base_uri": "https://localhost:8080/",
          "height": 204
        },
        "outputId": "5cb4358f-d8e7-4b10-deea-553b69a9fa11"
      },
      "source": [
        "barleyED = barley[(barley['amal per']==\"E Dynastic\") ]\n",
        "\n",
        "barleyED.head()"
      ],
      "execution_count": 38,
      "outputs": [
        {
          "output_type": "execute_result",
          "data": {
            "text/html": [
              "<div>\n",
              "<style scoped>\n",
              "    .dataframe tbody tr th:only-of-type {\n",
              "        vertical-align: middle;\n",
              "    }\n",
              "\n",
              "    .dataframe tbody tr th {\n",
              "        vertical-align: top;\n",
              "    }\n",
              "\n",
              "    .dataframe thead th {\n",
              "        text-align: right;\n",
              "    }\n",
              "</style>\n",
              "<table border=\"1\" class=\"dataframe\">\n",
              "  <thead>\n",
              "    <tr style=\"text-align: right;\">\n",
              "      <th></th>\n",
              "      <th>site code</th>\n",
              "      <th>amal per</th>\n",
              "      <th>latitude</th>\n",
              "      <th>longitude</th>\n",
              "      <th>barley grain</th>\n",
              "      <th>geometry</th>\n",
              "    </tr>\n",
              "  </thead>\n",
              "  <tbody>\n",
              "    <tr>\n",
              "      <th>2</th>\n",
              "      <td>muqa</td>\n",
              "      <td>E Dynastic</td>\n",
              "      <td>30.56</td>\n",
              "      <td>46.08</td>\n",
              "      <td>2</td>\n",
              "      <td>POINT (46.08000 30.56000)</td>\n",
              "    </tr>\n",
              "    <tr>\n",
              "      <th>3</th>\n",
              "      <td>muqa</td>\n",
              "      <td>E Dynastic</td>\n",
              "      <td>30.56</td>\n",
              "      <td>46.08</td>\n",
              "      <td>1</td>\n",
              "      <td>POINT (46.08000 30.56000)</td>\n",
              "    </tr>\n",
              "    <tr>\n",
              "      <th>4</th>\n",
              "      <td>muqa</td>\n",
              "      <td>E Dynastic</td>\n",
              "      <td>30.56</td>\n",
              "      <td>46.08</td>\n",
              "      <td>0</td>\n",
              "      <td>POINT (46.08000 30.56000)</td>\n",
              "    </tr>\n",
              "    <tr>\n",
              "      <th>24</th>\n",
              "      <td>chog</td>\n",
              "      <td>E Dynastic</td>\n",
              "      <td>33.53</td>\n",
              "      <td>45.27</td>\n",
              "      <td>0</td>\n",
              "      <td>POINT (45.27000 33.53000)</td>\n",
              "    </tr>\n",
              "    <tr>\n",
              "      <th>64</th>\n",
              "      <td>sala</td>\n",
              "      <td>E Dynastic</td>\n",
              "      <td>32.16</td>\n",
              "      <td>45.05</td>\n",
              "      <td>52</td>\n",
              "      <td>POINT (45.05000 32.16000)</td>\n",
              "    </tr>\n",
              "  </tbody>\n",
              "</table>\n",
              "</div>"
            ],
            "text/plain": [
              "   site code    amal per  ...  barley grain                   geometry\n",
              "2       muqa  E Dynastic  ...             2  POINT (46.08000 30.56000)\n",
              "3       muqa  E Dynastic  ...             1  POINT (46.08000 30.56000)\n",
              "4       muqa  E Dynastic  ...             0  POINT (46.08000 30.56000)\n",
              "24      chog  E Dynastic  ...             0  POINT (45.27000 33.53000)\n",
              "64      sala  E Dynastic  ...            52  POINT (45.05000 32.16000)\n",
              "\n",
              "[5 rows x 6 columns]"
            ]
          },
          "metadata": {
            "tags": []
          },
          "execution_count": 38
        }
      ]
    },
    {
      "cell_type": "code",
      "metadata": {
        "id": "McImEKvp8XzG",
        "colab_type": "code",
        "colab": {
          "base_uri": "https://localhost:8080/",
          "height": 204
        },
        "outputId": "4fafc9e1-a3d5-4793-a5ea-2c80194c625c"
      },
      "source": [
        "barleyakk = barley[(barley['amal per']==\"Akkadian\") ]\n",
        "barleyakk.head()"
      ],
      "execution_count": 39,
      "outputs": [
        {
          "output_type": "execute_result",
          "data": {
            "text/html": [
              "<div>\n",
              "<style scoped>\n",
              "    .dataframe tbody tr th:only-of-type {\n",
              "        vertical-align: middle;\n",
              "    }\n",
              "\n",
              "    .dataframe tbody tr th {\n",
              "        vertical-align: top;\n",
              "    }\n",
              "\n",
              "    .dataframe thead th {\n",
              "        text-align: right;\n",
              "    }\n",
              "</style>\n",
              "<table border=\"1\" class=\"dataframe\">\n",
              "  <thead>\n",
              "    <tr style=\"text-align: right;\">\n",
              "      <th></th>\n",
              "      <th>site code</th>\n",
              "      <th>amal per</th>\n",
              "      <th>latitude</th>\n",
              "      <th>longitude</th>\n",
              "      <th>barley grain</th>\n",
              "      <th>geometry</th>\n",
              "    </tr>\n",
              "  </thead>\n",
              "  <tbody>\n",
              "    <tr>\n",
              "      <th>5</th>\n",
              "      <td>muqa</td>\n",
              "      <td>Akkadian</td>\n",
              "      <td>30.56</td>\n",
              "      <td>46.08</td>\n",
              "      <td>0</td>\n",
              "      <td>POINT (46.08000 30.56000)</td>\n",
              "    </tr>\n",
              "    <tr>\n",
              "      <th>6</th>\n",
              "      <td>muqa</td>\n",
              "      <td>Akkadian</td>\n",
              "      <td>30.56</td>\n",
              "      <td>46.08</td>\n",
              "      <td>2</td>\n",
              "      <td>POINT (46.08000 30.56000)</td>\n",
              "    </tr>\n",
              "    <tr>\n",
              "      <th>14</th>\n",
              "      <td>asma</td>\n",
              "      <td>Akkadian</td>\n",
              "      <td>33.32</td>\n",
              "      <td>44.58</td>\n",
              "      <td>1</td>\n",
              "      <td>POINT (44.58000 33.32000)</td>\n",
              "    </tr>\n",
              "    <tr>\n",
              "      <th>19</th>\n",
              "      <td>bazm</td>\n",
              "      <td>Akkadian</td>\n",
              "      <td>36.13</td>\n",
              "      <td>44.47</td>\n",
              "      <td>1</td>\n",
              "      <td>POINT (44.47000 36.13000)</td>\n",
              "    </tr>\n",
              "    <tr>\n",
              "      <th>30</th>\n",
              "      <td>harm</td>\n",
              "      <td>Akkadian</td>\n",
              "      <td>33.22</td>\n",
              "      <td>44.28</td>\n",
              "      <td>0</td>\n",
              "      <td>POINT (44.28000 33.22000)</td>\n",
              "    </tr>\n",
              "  </tbody>\n",
              "</table>\n",
              "</div>"
            ],
            "text/plain": [
              "   site code  amal per  ...  barley grain                   geometry\n",
              "5       muqa  Akkadian  ...             0  POINT (46.08000 30.56000)\n",
              "6       muqa  Akkadian  ...             2  POINT (46.08000 30.56000)\n",
              "14      asma  Akkadian  ...             1  POINT (44.58000 33.32000)\n",
              "19      bazm  Akkadian  ...             1  POINT (44.47000 36.13000)\n",
              "30      harm  Akkadian  ...             0  POINT (44.28000 33.22000)\n",
              "\n",
              "[5 rows x 6 columns]"
            ]
          },
          "metadata": {
            "tags": []
          },
          "execution_count": 39
        }
      ]
    },
    {
      "cell_type": "code",
      "metadata": {
        "id": "Jp7KJvM68uM9",
        "colab_type": "code",
        "colab": {
          "base_uri": "https://localhost:8080/",
          "height": 204
        },
        "outputId": "9ba37960-2456-4204-f390-25369a76df8a"
      },
      "source": [
        "barleyNA = barley[(barley['amal per']==\"Neo Assyrian\") ]\n",
        "barleyNA.head()"
      ],
      "execution_count": 40,
      "outputs": [
        {
          "output_type": "execute_result",
          "data": {
            "text/html": [
              "<div>\n",
              "<style scoped>\n",
              "    .dataframe tbody tr th:only-of-type {\n",
              "        vertical-align: middle;\n",
              "    }\n",
              "\n",
              "    .dataframe tbody tr th {\n",
              "        vertical-align: top;\n",
              "    }\n",
              "\n",
              "    .dataframe thead th {\n",
              "        text-align: right;\n",
              "    }\n",
              "</style>\n",
              "<table border=\"1\" class=\"dataframe\">\n",
              "  <thead>\n",
              "    <tr style=\"text-align: right;\">\n",
              "      <th></th>\n",
              "      <th>site code</th>\n",
              "      <th>amal per</th>\n",
              "      <th>latitude</th>\n",
              "      <th>longitude</th>\n",
              "      <th>barley grain</th>\n",
              "      <th>geometry</th>\n",
              "    </tr>\n",
              "  </thead>\n",
              "  <tbody>\n",
              "    <tr>\n",
              "      <th>8</th>\n",
              "      <td>muqa</td>\n",
              "      <td>Neo Assyrian</td>\n",
              "      <td>30.56</td>\n",
              "      <td>46.08</td>\n",
              "      <td>1</td>\n",
              "      <td>POINT (46.08000 30.56000)</td>\n",
              "    </tr>\n",
              "    <tr>\n",
              "      <th>15</th>\n",
              "      <td>baby</td>\n",
              "      <td>Neo Assyrian</td>\n",
              "      <td>32.33</td>\n",
              "      <td>44.24</td>\n",
              "      <td>2</td>\n",
              "      <td>POINT (44.24000 32.33000)</td>\n",
              "    </tr>\n",
              "    <tr>\n",
              "      <th>20</th>\n",
              "      <td>bism</td>\n",
              "      <td>Neo Assyrian</td>\n",
              "      <td>31.57</td>\n",
              "      <td>45.58</td>\n",
              "      <td>1</td>\n",
              "      <td>POINT (45.58000 31.57000)</td>\n",
              "    </tr>\n",
              "    <tr>\n",
              "      <th>46</th>\n",
              "      <td>mahm</td>\n",
              "      <td>Neo Assyrian</td>\n",
              "      <td>33.20</td>\n",
              "      <td>44.20</td>\n",
              "      <td>3</td>\n",
              "      <td>POINT (44.20000 33.20000)</td>\n",
              "    </tr>\n",
              "    <tr>\n",
              "      <th>52</th>\n",
              "      <td>nimr</td>\n",
              "      <td>Neo Assyrian</td>\n",
              "      <td>36.06</td>\n",
              "      <td>43.19</td>\n",
              "      <td>12</td>\n",
              "      <td>POINT (43.19000 36.06000)</td>\n",
              "    </tr>\n",
              "  </tbody>\n",
              "</table>\n",
              "</div>"
            ],
            "text/plain": [
              "   site code      amal per  ...  barley grain                   geometry\n",
              "8       muqa  Neo Assyrian  ...             1  POINT (46.08000 30.56000)\n",
              "15      baby  Neo Assyrian  ...             2  POINT (44.24000 32.33000)\n",
              "20      bism  Neo Assyrian  ...             1  POINT (45.58000 31.57000)\n",
              "46      mahm  Neo Assyrian  ...             3  POINT (44.20000 33.20000)\n",
              "52      nimr  Neo Assyrian  ...            12  POINT (43.19000 36.06000)\n",
              "\n",
              "[5 rows x 6 columns]"
            ]
          },
          "metadata": {
            "tags": []
          },
          "execution_count": 40
        }
      ]
    },
    {
      "cell_type": "code",
      "metadata": {
        "id": "DSEE4nmZ9MMY",
        "colab_type": "code",
        "colab": {
          "base_uri": "https://localhost:8080/",
          "height": 34
        },
        "outputId": "22591882-8f6b-4fdc-e431-863360845ce3"
      },
      "source": [
        "base_map = generateBaseMap()\n",
        "\n",
        "ED = HeatMap(data=barleyED[['latitude', 'longitude']].groupby(['latitude', 'longitude']).sum().reset_index().values.tolist(), radius=8, max_zoom=13).add_to(base_map)\n",
        "Akk = HeatMap(data=barleyakk[['latitude', 'longitude']].groupby(['latitude', 'longitude']).sum().reset_index().values.tolist(), radius=8, max_zoom=13).add_to(base_map)\n",
        "NA = HeatMap(data=barleyNA[['latitude', 'longitude']].groupby(['latitude', 'longitude']).sum().reset_index().values.tolist(), radius=8, max_zoom=13).add_to(base_map)\n",
        "\n",
        "ED.layer_name = 'Early Dynastic'\n",
        "Akk.layer_name = 'Akkadian'\n",
        "NA.layer_name = 'Neo Assyrian'\n",
        "\n",
        "folium.LayerControl().add_to(base_map)"
      ],
      "execution_count": 46,
      "outputs": [
        {
          "output_type": "execute_result",
          "data": {
            "text/plain": [
              "<folium.map.LayerControl at 0x7f30f7a45ef0>"
            ]
          },
          "metadata": {
            "tags": []
          },
          "execution_count": 46
        }
      ]
    },
    {
      "cell_type": "code",
      "metadata": {
        "id": "PwTNAYWJ-RkA",
        "colab_type": "code",
        "colab": {
          "base_uri": "https://localhost:8080/",
          "height": 755
        },
        "outputId": "92448b30-f5de-4dd8-d36a-7a986f4e0b2c"
      },
      "source": [
        "base_map"
      ],
      "execution_count": 47,
      "outputs": [
        {
          "output_type": "execute_result",
          "data": {
            "text/html": [
              "<div style=\"width:100%;\"><div style=\"position:relative;width:100%;height:0;padding-bottom:60%;\"><iframe src=\"data:text/html;charset=utf-8;base64,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\" style=\"position:absolute;width:100%;height:100%;left:0;top:0;border:none !important;\" allowfullscreen webkitallowfullscreen mozallowfullscreen></iframe></div></div>"
            ],
            "text/plain": [
              "<folium.folium.Map at 0x7f30f7a45cc0>"
            ]
          },
          "metadata": {
            "tags": []
          },
          "execution_count": 47
        }
      ]
    }
  ]
}